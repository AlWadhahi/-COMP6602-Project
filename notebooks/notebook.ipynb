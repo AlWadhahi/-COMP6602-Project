{
 "cells": [
  {
   "cell_type": "markdown",
   "metadata": {},
   "source": [
    "# Imports"
   ]
  },
  {
   "cell_type": "code",
   "execution_count": 1,
   "metadata": {},
   "outputs": [],
   "source": [
    "# Machine Learning \n",
    "from sklearn import svm\n",
    "from sklearn.experimental import enable_halving_search_cv\n",
    "from sklearn.model_selection import train_test_split, HalvingGridSearchCV\n",
    "from sklearn.decomposition import PCA\n",
    "\n",
    "# ML Evaluation\n",
    "from sklearn.metrics import classification_report,accuracy_score,confusion_matrix, roc_auc_score, roc_curve, auc\n",
    "\n",
    "# Visualization \n",
    "import matplotlib.pyplot as plt\n",
    "import seaborn as sns\n",
    "\n",
    "\n",
    "# Utils\n",
    "import os\n",
    "import pandas as pd\n",
    "import numpy as np\n",
    "from glob import glob\n",
    "from PIL import Image\n",
    "import pickle\n"
   ]
  },
  {
   "cell_type": "markdown",
   "metadata": {},
   "source": [
    "# Dataset Preprocessing"
   ]
  },
  {
   "cell_type": "code",
   "execution_count": 2,
   "metadata": {},
   "outputs": [],
   "source": [
    "train_path = '../car-damage-dataset/data1a/training'\n",
    "test_path = '../car-damage-dataset/data1a/validation'\n",
    "\n",
    "train_files = glob(train_path + '/*/*.jp*g')\n",
    "test_files = glob(test_path + '/*/*.jp*g')"
   ]
  },
  {
   "cell_type": "code",
   "execution_count": 3,
   "metadata": {},
   "outputs": [
    {
     "data": {
      "text/plain": [
       "['00-damage', '01-whole']"
      ]
     },
     "execution_count": 3,
     "metadata": {},
     "output_type": "execute_result"
    }
   ],
   "source": [
    "os.listdir(test_path)"
   ]
  },
  {
   "cell_type": "code",
   "execution_count": 4,
   "metadata": {},
   "outputs": [],
   "source": [
    "def load_images_as_vectors(images):\n",
    "    \"\"\"\n",
    "    helper function to convert glob to vector\n",
    "    \"\"\"\n",
    "    \n",
    "    number_of_images = len(images)\n",
    "    w = 256\n",
    "    h = 256\n",
    "    channels = 3\n",
    "\n",
    "    X = np.empty(shape= (number_of_images, w*h*channels))\n",
    "\n",
    "    labels = np.empty(number_of_images)\n",
    "\n",
    "    for i, sample in enumerate(images):\n",
    "\n",
    "        image_vector = Image.open(sample) \n",
    "        \n",
    "        # Resize to 256 x 256\n",
    "        resized_image_vector = np.array(image_vector.resize((256, 256)))\n",
    "\n",
    "        # Scale to [0,1]\n",
    "        norm_image_vector = resized_image_vector / 255\n",
    "\n",
    "        flattened_image_vector = norm_image_vector.flatten()\n",
    "\n",
    "        X[i] = np.pad(flattened_image_vector, (0, (w*h*channels) - len(flattened_image_vector) ))\n",
    "\n",
    "        if sample.split(\"\\\\\")[-2] == \"00-damage\":\n",
    "            labels[i] = 0\n",
    "\n",
    "        else:\n",
    "            labels[i] = 1\n",
    "\n",
    "    return X, labels\n"
   ]
  },
  {
   "cell_type": "markdown",
   "metadata": {},
   "source": [
    "### Dimensionality Reduction"
   ]
  },
  {
   "cell_type": "code",
   "execution_count": 5,
   "metadata": {},
   "outputs": [
    {
     "data": {
      "text/plain": [
       "PCA()"
      ]
     },
     "execution_count": 5,
     "metadata": {},
     "output_type": "execute_result"
    }
   ],
   "source": [
    "\n",
    "X1, y1 = load_images_as_vectors(train_files)\n",
    "\n",
    "X2, y2 = load_images_as_vectors(test_files)\n",
    "\n",
    "X = np.append(X1, X2, axis=0)\n",
    "\n",
    "y = np.append(y1, y2, axis=0)\n",
    "\n",
    "principal=PCA()\n",
    "\n",
    "principal.fit(X)\n"
   ]
  },
  {
   "cell_type": "code",
   "execution_count": 6,
   "metadata": {},
   "outputs": [
    {
     "data": {
      "text/plain": [
       "Text(0, 0.5, 'cumulative explained variance')"
      ]
     },
     "execution_count": 6,
     "metadata": {},
     "output_type": "execute_result"
    },
    {
     "data": {
      "image/png": "[encoded data removed]",
      "text/plain": [
       "<Figure size 432x288 with 1 Axes>"
      ]
     },
     "metadata": {
      "needs_background": "light"
     },
     "output_type": "display_data"
    }
   ],
   "source": [
    "plt.plot(np.cumsum(principal.explained_variance_ratio_))\n",
    "plt.xlabel('number of components')\n",
    "plt.ylabel('cumulative explained variance')"
   ]
  },
  {
   "cell_type": "code",
   "execution_count": 7,
   "metadata": {},
   "outputs": [],
   "source": [
    "principal = PCA(n_components=1500)\n",
    "\n",
    "principal.fit(X)\n",
    "\n",
    "X=principal.transform(X)"
   ]
  },
  {
   "cell_type": "markdown",
   "metadata": {},
   "source": [
    "## Test/Train splits"
   ]
  },
  {
   "cell_type": "code",
   "execution_count": 8,
   "metadata": {},
   "outputs": [],
   "source": [
    "X_train, X_test, y_train, y_test = train_test_split(X, y, test_size=0.20, random_state=0)"
   ]
  },
  {
   "cell_type": "code",
   "execution_count": 9,
   "metadata": {},
   "outputs": [
    {
     "data": {
      "text/plain": [
       "2300"
      ]
     },
     "execution_count": 9,
     "metadata": {},
     "output_type": "execute_result"
    }
   ],
   "source": [
    "len(y)"
   ]
  },
  {
   "cell_type": "markdown",
   "metadata": {},
   "source": [
    "## Model Development"
   ]
  },
  {
   "cell_type": "code",
   "execution_count": 10,
   "metadata": {},
   "outputs": [
    {
     "name": "stdout",
     "output_type": "stream",
     "text": [
      "n_iterations: 4\n",
      "n_required_iterations: 4\n",
      "n_possible_iterations: 4\n",
      "min_resources_: 68\n",
      "max_resources_: 1840\n",
      "aggressive_elimination: False\n",
      "factor: 3\n",
      "----------\n",
      "iter: 0\n",
      "n_candidates: 32\n",
      "n_resources: 68\n",
      "Fitting 5 folds for each of 32 candidates, totalling 160 fits\n",
      "----------\n",
      "iter: 1\n",
      "n_candidates: 11\n",
      "n_resources: 204\n",
      "Fitting 5 folds for each of 11 candidates, totalling 55 fits\n",
      "----------\n",
      "iter: 2\n",
      "n_candidates: 4\n",
      "n_resources: 612\n",
      "Fitting 5 folds for each of 4 candidates, totalling 20 fits\n",
      "----------\n",
      "iter: 3\n",
      "n_candidates: 2\n",
      "n_resources: 1836\n",
      "Fitting 5 folds for each of 2 candidates, totalling 10 fits\n",
      "{'C': 10, 'gamma': 0.0001, 'kernel': 'rbf'}\n"
     ]
    }
   ],
   "source": [
    "param_grid = {'C':[0.1,1,10,100],'gamma':[0.0001,0.001,0.1,1],'kernel':['rbf','poly']}\n",
    "\n",
    "svc = svm.SVC()\n",
    "\n",
    "model = HalvingGridSearchCV(svc, param_grid, n_jobs=-1, cv=5, verbose=1)\n",
    "\n",
    "model.fit(X_train, y_train)\n",
    "\n",
    "print(model.best_params_)"
   ]
  },
  {
   "cell_type": "code",
   "execution_count": 11,
   "metadata": {},
   "outputs": [],
   "source": [
    "y_pred = model.predict(X_test)\n",
    "\n",
    "# y_pred"
   ]
  },
  {
   "cell_type": "markdown",
   "metadata": {},
   "source": [
    "## Model Performance Review"
   ]
  },
  {
   "cell_type": "code",
   "execution_count": 12,
   "metadata": {},
   "outputs": [
    {
     "data": {
      "text/plain": [
       "0.7217391304347827"
      ]
     },
     "execution_count": 12,
     "metadata": {},
     "output_type": "execute_result"
    }
   ],
   "source": [
    "accuracy_score(y_pred, y_test)"
   ]
  },
  {
   "cell_type": "code",
   "execution_count": 13,
   "metadata": {},
   "outputs": [
    {
     "name": "stdout",
     "output_type": "stream",
     "text": [
      "              precision    recall  f1-score   support\n",
      "\n",
      "         0.0       0.77      0.72      0.74       257\n",
      "         1.0       0.67      0.72      0.70       203\n",
      "\n",
      "    accuracy                           0.72       460\n",
      "   macro avg       0.72      0.72      0.72       460\n",
      "weighted avg       0.73      0.72      0.72       460\n",
      "\n"
     ]
    }
   ],
   "source": [
    "print(classification_report(y_pred, y_test))\n"
   ]
  },
  {
   "cell_type": "code",
   "execution_count": 14,
   "metadata": {},
   "outputs": [
    {
     "data": {
      "text/plain": [
       "<AxesSubplot:>"
      ]
     },
     "execution_count": 14,
     "metadata": {},
     "output_type": "execute_result"
    },
    {
     "data": {
      "image/png": "[encoded data removed]",
      "text/plain": [
       "<Figure size 432x288 with 2 Axes>"
      ]
     },
     "metadata": {
      "needs_background": "light"
     },
     "output_type": "display_data"
    }
   ],
   "source": [
    "confusion_matrix(y_test, y_pred)\n",
    "\n",
    "sns.heatmap(\n",
    "   pd.DataFrame(\n",
    "    confusion_matrix(y_test, y_pred),\n",
    "    index = ['Damaged', 'Non-damaged'],\n",
    "    columns = ['Damaged', 'Non-damaged']\n",
    "), \n",
    "    annot=True, \n",
    "    fmt='g', \n",
    "    cmap='Blues'\n",
    "    )"
   ]
  },
  {
   "cell_type": "code",
   "execution_count": 15,
   "metadata": {},
   "outputs": [
    {
     "data": {
      "text/plain": [
       "0.7219911445055682"
      ]
     },
     "execution_count": 15,
     "metadata": {},
     "output_type": "execute_result"
    }
   ],
   "source": [
    "roc_auc_score(y_pred, y_test)"
   ]
  },
  {
   "cell_type": "code",
   "execution_count": 16,
   "metadata": {},
   "outputs": [],
   "source": [
    "y_score = model.decision_function(X_test)\n",
    "\n",
    "\n",
    "fpr, tpr, _ = roc_curve(y_test, y_score)\n",
    "roc_auc = auc(fpr, tpr)"
   ]
  },
  {
   "cell_type": "code",
   "execution_count": 17,
   "metadata": {},
   "outputs": [
    {
     "data": {
      "image/png": "[encoded data removed]",
      "text/plain": [
       "<Figure size 432x288 with 1 Axes>"
      ]
     },
     "metadata": {
      "needs_background": "light"
     },
     "output_type": "display_data"
    }
   ],
   "source": [
    "plt.figure()\n",
    "lw = 2\n",
    "plt.plot(\n",
    "    fpr,\n",
    "    tpr,\n",
    "    color=\"darkorange\",\n",
    "    lw=lw,\n",
    "    label=\"ROC curve (area = %0.2f)\" % roc_auc,\n",
    ")\n",
    "plt.plot([0, 1], [0, 1], color=\"navy\", lw=lw, linestyle=\"--\")\n",
    "plt.xlim([0.0, 1.0])\n",
    "plt.ylim([0.0, 1.05])\n",
    "plt.xlabel(\"False Positive Rate\")\n",
    "plt.ylabel(\"True Positive Rate\")\n",
    "plt.title(\"ROC Curve\")\n",
    "plt.legend(loc=\"lower right\")\n",
    "plt.show()"
   ]
  },
  {
   "cell_type": "code",
   "execution_count": 18,
   "metadata": {},
   "outputs": [],
   "source": [
    "# Use pickle to save the model\n",
    "pickle.dump(model,open('../saved-models/final_model.p','wb'))\n",
    "\n",
    "# Use pickle to save PCA\n",
    "pickle.dump(principal, open(\"../saved-models/pca.pkl\",\"wb\"))\n",
    "\n",
    "# pca.pkl file will not be updated to github due to its very large size"
   ]
  }
 ],
 "metadata": {
  "interpreter": {
   "hash": "c7d28c78db0730d805e68481932e7e809744adca621765ff38b402e91a451557"
  },
  "kernelspec": {
   "display_name": "Python 3.9.5 ('comp6602-project-zTWnP2sZ-py3.9')",
   "language": "python",
   "name": "python3"
  },
  "language_info": {
   "codemirror_mode": {
    "name": "ipython",
    "version": 3
   },
   "file_extension": ".py",
   "mimetype": "text/x-python",
   "name": "python",
   "nbconvert_exporter": "python",
   "pygments_lexer": "ipython3",
   "version": "3.9.5"
  },
  "orig_nbformat": 4
 },
 "nbformat": 4,
 "nbformat_minor": 2
}
